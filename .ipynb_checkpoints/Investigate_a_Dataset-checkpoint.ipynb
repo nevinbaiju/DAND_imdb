{
 "cells": [
  {
   "cell_type": "markdown",
   "metadata": {},
   "source": [
    "\n",
    "# Project: Investigate a Dataset (IMDB)\n",
    "\n",
    "## Table of Contents\n",
    "<ul>\n",
    "<li><a href=\"#intro\">Introduction</a></li>\n",
    "<li><a href=\"#wrangling\">Data Wrangling</a></li>\n",
    "<li><a href=\"#eda\">Exploratory Data Analysis</a></li>\n",
    "<li><a href=\"#conclusions\">Conclusions</a></li>\n",
    "</ul>"
   ]
  },
  {
   "cell_type": "markdown",
   "metadata": {},
   "source": [
    "<a id='intro'></a>\n",
    "## Introduction\n",
    "\n",
    "> The dataset that I have chosen is the internet movie database data. Being a movie buff, I didn't have to think twice about choosing a data set. Today I wanna explore the different things about movies which I couldn't while watching a movie, like the taste and poplular genres of people over time, etc. "
   ]
  },
  {
   "cell_type": "code",
   "execution_count": 2,
   "metadata": {
    "collapsed": true
   },
   "outputs": [],
   "source": [
    "# Use this cell to set up import statements for all of the packages that you\n",
    "#   plan to use.\n",
    "\n",
    "# Remember to include a 'magic word' so that your visualizations are plotted\n",
    "#   inline with the notebook. See this page for more:\n",
    "#   http://ipython.readthedocs.io/en/stable/interactive/magics.html\n",
    "import  pandas as pd\n",
    "import numpy as np\n",
    "import matplotlib.pyplot as plt"
   ]
  },
  {
   "cell_type": "code",
   "execution_count": 3,
   "metadata": {
    "collapsed": true
   },
   "outputs": [],
   "source": [
    "movies_df = pd.read_csv('tmdb-movies.csv')"
   ]
  },
  {
   "cell_type": "code",
   "execution_count": 4,
   "metadata": {
    "scrolled": true
   },
   "outputs": [
    {
     "data": {
      "text/plain": [
       "Index(['id', 'imdb_id', 'popularity', 'budget', 'revenue', 'original_title',\n",
       "       'cast', 'homepage', 'director', 'tagline', 'keywords', 'overview',\n",
       "       'runtime', 'genres', 'production_companies', 'release_date',\n",
       "       'vote_count', 'vote_average', 'release_year', 'budget_adj',\n",
       "       'revenue_adj'],\n",
       "      dtype='object')"
      ]
     },
     "execution_count": 4,
     "metadata": {},
     "output_type": "execute_result"
    }
   ],
   "source": [
    "# printing out the columns.\n",
    "movies_df.columns"
   ]
  },
  {
   "cell_type": "markdown",
   "metadata": {},
   "source": [
    "> This dataset clearly has a lot of interesting fields, now let us look into the integrity of the data and pick out the ones we could use."
   ]
  },
  {
   "cell_type": "markdown",
   "metadata": {},
   "source": [
    "<a id='wrangling'></a>\n",
    "## Data Wrangling\n",
    "\n",
    "> The major data part I wanna focus on are the data involving the genre of the movies, the year in which they were released, the budget, the revenue made, runtime, etc. My goal is to compare the trends and results of the movies from the last 30 years to the ones before that.\n",
    "\n",
    "### General Properties"
   ]
  },
  {
   "cell_type": "code",
   "execution_count": 5,
   "metadata": {},
   "outputs": [
    {
     "data": {
      "text/html": [
       "<div>\n",
       "<style>\n",
       "    .dataframe thead tr:only-child th {\n",
       "        text-align: right;\n",
       "    }\n",
       "\n",
       "    .dataframe thead th {\n",
       "        text-align: left;\n",
       "    }\n",
       "\n",
       "    .dataframe tbody tr th {\n",
       "        vertical-align: top;\n",
       "    }\n",
       "</style>\n",
       "<table border=\"1\" class=\"dataframe\">\n",
       "  <thead>\n",
       "    <tr style=\"text-align: right;\">\n",
       "      <th></th>\n",
       "      <th>id</th>\n",
       "      <th>imdb_id</th>\n",
       "      <th>popularity</th>\n",
       "      <th>budget</th>\n",
       "      <th>revenue</th>\n",
       "      <th>original_title</th>\n",
       "      <th>cast</th>\n",
       "      <th>homepage</th>\n",
       "      <th>director</th>\n",
       "      <th>tagline</th>\n",
       "      <th>...</th>\n",
       "      <th>overview</th>\n",
       "      <th>runtime</th>\n",
       "      <th>genres</th>\n",
       "      <th>production_companies</th>\n",
       "      <th>release_date</th>\n",
       "      <th>vote_count</th>\n",
       "      <th>vote_average</th>\n",
       "      <th>release_year</th>\n",
       "      <th>budget_adj</th>\n",
       "      <th>revenue_adj</th>\n",
       "    </tr>\n",
       "  </thead>\n",
       "  <tbody>\n",
       "    <tr>\n",
       "      <th>0</th>\n",
       "      <td>135397</td>\n",
       "      <td>tt0369610</td>\n",
       "      <td>32.985763</td>\n",
       "      <td>150000000</td>\n",
       "      <td>1513528810</td>\n",
       "      <td>Jurassic World</td>\n",
       "      <td>Chris Pratt|Bryce Dallas Howard|Irrfan Khan|Vi...</td>\n",
       "      <td>http://www.jurassicworld.com/</td>\n",
       "      <td>Colin Trevorrow</td>\n",
       "      <td>The park is open.</td>\n",
       "      <td>...</td>\n",
       "      <td>Twenty-two years after the events of Jurassic ...</td>\n",
       "      <td>124</td>\n",
       "      <td>Action|Adventure|Science Fiction|Thriller</td>\n",
       "      <td>Universal Studios|Amblin Entertainment|Legenda...</td>\n",
       "      <td>6/9/15</td>\n",
       "      <td>5562</td>\n",
       "      <td>6.5</td>\n",
       "      <td>2015</td>\n",
       "      <td>1.379999e+08</td>\n",
       "      <td>1.392446e+09</td>\n",
       "    </tr>\n",
       "    <tr>\n",
       "      <th>1</th>\n",
       "      <td>76341</td>\n",
       "      <td>tt1392190</td>\n",
       "      <td>28.419936</td>\n",
       "      <td>150000000</td>\n",
       "      <td>378436354</td>\n",
       "      <td>Mad Max: Fury Road</td>\n",
       "      <td>Tom Hardy|Charlize Theron|Hugh Keays-Byrne|Nic...</td>\n",
       "      <td>http://www.madmaxmovie.com/</td>\n",
       "      <td>George Miller</td>\n",
       "      <td>What a Lovely Day.</td>\n",
       "      <td>...</td>\n",
       "      <td>An apocalyptic story set in the furthest reach...</td>\n",
       "      <td>120</td>\n",
       "      <td>Action|Adventure|Science Fiction|Thriller</td>\n",
       "      <td>Village Roadshow Pictures|Kennedy Miller Produ...</td>\n",
       "      <td>5/13/15</td>\n",
       "      <td>6185</td>\n",
       "      <td>7.1</td>\n",
       "      <td>2015</td>\n",
       "      <td>1.379999e+08</td>\n",
       "      <td>3.481613e+08</td>\n",
       "    </tr>\n",
       "    <tr>\n",
       "      <th>2</th>\n",
       "      <td>262500</td>\n",
       "      <td>tt2908446</td>\n",
       "      <td>13.112507</td>\n",
       "      <td>110000000</td>\n",
       "      <td>295238201</td>\n",
       "      <td>Insurgent</td>\n",
       "      <td>Shailene Woodley|Theo James|Kate Winslet|Ansel...</td>\n",
       "      <td>http://www.thedivergentseries.movie/#insurgent</td>\n",
       "      <td>Robert Schwentke</td>\n",
       "      <td>One Choice Can Destroy You</td>\n",
       "      <td>...</td>\n",
       "      <td>Beatrice Prior must confront her inner demons ...</td>\n",
       "      <td>119</td>\n",
       "      <td>Adventure|Science Fiction|Thriller</td>\n",
       "      <td>Summit Entertainment|Mandeville Films|Red Wago...</td>\n",
       "      <td>3/18/15</td>\n",
       "      <td>2480</td>\n",
       "      <td>6.3</td>\n",
       "      <td>2015</td>\n",
       "      <td>1.012000e+08</td>\n",
       "      <td>2.716190e+08</td>\n",
       "    </tr>\n",
       "    <tr>\n",
       "      <th>3</th>\n",
       "      <td>140607</td>\n",
       "      <td>tt2488496</td>\n",
       "      <td>11.173104</td>\n",
       "      <td>200000000</td>\n",
       "      <td>2068178225</td>\n",
       "      <td>Star Wars: The Force Awakens</td>\n",
       "      <td>Harrison Ford|Mark Hamill|Carrie Fisher|Adam D...</td>\n",
       "      <td>http://www.starwars.com/films/star-wars-episod...</td>\n",
       "      <td>J.J. Abrams</td>\n",
       "      <td>Every generation has a story.</td>\n",
       "      <td>...</td>\n",
       "      <td>Thirty years after defeating the Galactic Empi...</td>\n",
       "      <td>136</td>\n",
       "      <td>Action|Adventure|Science Fiction|Fantasy</td>\n",
       "      <td>Lucasfilm|Truenorth Productions|Bad Robot</td>\n",
       "      <td>12/15/15</td>\n",
       "      <td>5292</td>\n",
       "      <td>7.5</td>\n",
       "      <td>2015</td>\n",
       "      <td>1.839999e+08</td>\n",
       "      <td>1.902723e+09</td>\n",
       "    </tr>\n",
       "    <tr>\n",
       "      <th>4</th>\n",
       "      <td>168259</td>\n",
       "      <td>tt2820852</td>\n",
       "      <td>9.335014</td>\n",
       "      <td>190000000</td>\n",
       "      <td>1506249360</td>\n",
       "      <td>Furious 7</td>\n",
       "      <td>Vin Diesel|Paul Walker|Jason Statham|Michelle ...</td>\n",
       "      <td>http://www.furious7.com/</td>\n",
       "      <td>James Wan</td>\n",
       "      <td>Vengeance Hits Home</td>\n",
       "      <td>...</td>\n",
       "      <td>Deckard Shaw seeks revenge against Dominic Tor...</td>\n",
       "      <td>137</td>\n",
       "      <td>Action|Crime|Thriller</td>\n",
       "      <td>Universal Pictures|Original Film|Media Rights ...</td>\n",
       "      <td>4/1/15</td>\n",
       "      <td>2947</td>\n",
       "      <td>7.3</td>\n",
       "      <td>2015</td>\n",
       "      <td>1.747999e+08</td>\n",
       "      <td>1.385749e+09</td>\n",
       "    </tr>\n",
       "  </tbody>\n",
       "</table>\n",
       "<p>5 rows × 21 columns</p>\n",
       "</div>"
      ],
      "text/plain": [
       "       id    imdb_id  popularity     budget     revenue  \\\n",
       "0  135397  tt0369610   32.985763  150000000  1513528810   \n",
       "1   76341  tt1392190   28.419936  150000000   378436354   \n",
       "2  262500  tt2908446   13.112507  110000000   295238201   \n",
       "3  140607  tt2488496   11.173104  200000000  2068178225   \n",
       "4  168259  tt2820852    9.335014  190000000  1506249360   \n",
       "\n",
       "                 original_title  \\\n",
       "0                Jurassic World   \n",
       "1            Mad Max: Fury Road   \n",
       "2                     Insurgent   \n",
       "3  Star Wars: The Force Awakens   \n",
       "4                     Furious 7   \n",
       "\n",
       "                                                cast  \\\n",
       "0  Chris Pratt|Bryce Dallas Howard|Irrfan Khan|Vi...   \n",
       "1  Tom Hardy|Charlize Theron|Hugh Keays-Byrne|Nic...   \n",
       "2  Shailene Woodley|Theo James|Kate Winslet|Ansel...   \n",
       "3  Harrison Ford|Mark Hamill|Carrie Fisher|Adam D...   \n",
       "4  Vin Diesel|Paul Walker|Jason Statham|Michelle ...   \n",
       "\n",
       "                                            homepage          director  \\\n",
       "0                      http://www.jurassicworld.com/   Colin Trevorrow   \n",
       "1                        http://www.madmaxmovie.com/     George Miller   \n",
       "2     http://www.thedivergentseries.movie/#insurgent  Robert Schwentke   \n",
       "3  http://www.starwars.com/films/star-wars-episod...       J.J. Abrams   \n",
       "4                           http://www.furious7.com/         James Wan   \n",
       "\n",
       "                         tagline      ...       \\\n",
       "0              The park is open.      ...        \n",
       "1             What a Lovely Day.      ...        \n",
       "2     One Choice Can Destroy You      ...        \n",
       "3  Every generation has a story.      ...        \n",
       "4            Vengeance Hits Home      ...        \n",
       "\n",
       "                                            overview runtime  \\\n",
       "0  Twenty-two years after the events of Jurassic ...     124   \n",
       "1  An apocalyptic story set in the furthest reach...     120   \n",
       "2  Beatrice Prior must confront her inner demons ...     119   \n",
       "3  Thirty years after defeating the Galactic Empi...     136   \n",
       "4  Deckard Shaw seeks revenge against Dominic Tor...     137   \n",
       "\n",
       "                                      genres  \\\n",
       "0  Action|Adventure|Science Fiction|Thriller   \n",
       "1  Action|Adventure|Science Fiction|Thriller   \n",
       "2         Adventure|Science Fiction|Thriller   \n",
       "3   Action|Adventure|Science Fiction|Fantasy   \n",
       "4                      Action|Crime|Thriller   \n",
       "\n",
       "                                production_companies release_date vote_count  \\\n",
       "0  Universal Studios|Amblin Entertainment|Legenda...       6/9/15       5562   \n",
       "1  Village Roadshow Pictures|Kennedy Miller Produ...      5/13/15       6185   \n",
       "2  Summit Entertainment|Mandeville Films|Red Wago...      3/18/15       2480   \n",
       "3          Lucasfilm|Truenorth Productions|Bad Robot     12/15/15       5292   \n",
       "4  Universal Pictures|Original Film|Media Rights ...       4/1/15       2947   \n",
       "\n",
       "   vote_average  release_year    budget_adj   revenue_adj  \n",
       "0           6.5          2015  1.379999e+08  1.392446e+09  \n",
       "1           7.1          2015  1.379999e+08  3.481613e+08  \n",
       "2           6.3          2015  1.012000e+08  2.716190e+08  \n",
       "3           7.5          2015  1.839999e+08  1.902723e+09  \n",
       "4           7.3          2015  1.747999e+08  1.385749e+09  \n",
       "\n",
       "[5 rows x 21 columns]"
      ]
     },
     "execution_count": 5,
     "metadata": {},
     "output_type": "execute_result"
    }
   ],
   "source": [
    "#printing out the head of the dataframe\n",
    "movies_df.head()"
   ]
  },
  {
   "cell_type": "code",
   "execution_count": 6,
   "metadata": {},
   "outputs": [
    {
     "data": {
      "text/plain": [
       "{'Action',\n",
       " 'Adventure',\n",
       " 'Animation',\n",
       " 'Comedy',\n",
       " 'Crime',\n",
       " 'Documentary',\n",
       " 'Drama',\n",
       " 'Family',\n",
       " 'Fantasy',\n",
       " 'Foreign',\n",
       " 'History',\n",
       " 'Horror',\n",
       " 'Music',\n",
       " 'Mystery',\n",
       " 'Romance',\n",
       " 'Science Fiction',\n",
       " 'TV Movie',\n",
       " 'Thriller',\n",
       " 'War',\n",
       " 'Western',\n",
       " 'nan'}"
      ]
     },
     "execution_count": 6,
     "metadata": {},
     "output_type": "execute_result"
    }
   ],
   "source": [
    "#checking out the different genres involved in the dataset\n",
    "genres_set = set()\n",
    "for genres in movies_df.genres:\n",
    "    for genre in str(genres).split('|'):\n",
    "        genres_set.add(genre)\n",
    "genres_set"
   ]
  },
  {
   "cell_type": "markdown",
   "metadata": {},
   "source": [
    "##### Genres\n",
    "> As we can see there are a wide range of genres for a single movie itself. And also clubbing genres is not that easily possible so the study will be carried out by taking in account all the different genres. One thing we can point out is that, some of the movies do not have a genre specified. We can eliminate such movies from our analysis."
   ]
  },
  {
   "cell_type": "code",
   "execution_count": 7,
   "metadata": {
    "collapsed": true
   },
   "outputs": [],
   "source": [
    "def remove_nan(genre_series):\n",
    "    if(genre_series=='nan'):\n",
    "        return False\n",
    "    else:\n",
    "        return True"
   ]
  },
  {
   "cell_type": "code",
   "execution_count": 8,
   "metadata": {
    "collapsed": true
   },
   "outputs": [],
   "source": [
    "movies_df = movies_df[movies_df.genres.apply(remove_nan)]"
   ]
  },
  {
   "cell_type": "code",
   "execution_count": 9,
   "metadata": {},
   "outputs": [
    {
     "data": {
      "text/plain": [
       "count    1.086600e+04\n",
       "mean     1.462570e+07\n",
       "std      3.091321e+07\n",
       "min      0.000000e+00\n",
       "25%      0.000000e+00\n",
       "50%      0.000000e+00\n",
       "75%      1.500000e+07\n",
       "max      4.250000e+08\n",
       "Name: budget, dtype: float64"
      ]
     },
     "execution_count": 9,
     "metadata": {},
     "output_type": "execute_result"
    }
   ],
   "source": [
    "#checking out the budget and revenue statistics.\n",
    "movies_df.budget.describe()"
   ]
  },
  {
   "cell_type": "code",
   "execution_count": 10,
   "metadata": {},
   "outputs": [
    {
     "data": {
      "text/plain": [
       "count    1.086600e+04\n",
       "mean     3.982332e+07\n",
       "std      1.170035e+08\n",
       "min      0.000000e+00\n",
       "25%      0.000000e+00\n",
       "50%      0.000000e+00\n",
       "75%      2.400000e+07\n",
       "max      2.781506e+09\n",
       "Name: revenue, dtype: float64"
      ]
     },
     "execution_count": 10,
     "metadata": {},
     "output_type": "execute_result"
    }
   ],
   "source": [
    "movies_df.revenue.describe()"
   ]
  },
  {
   "cell_type": "code",
   "execution_count": 11,
   "metadata": {},
   "outputs": [
    {
     "data": {
      "text/plain": [
       "count    6165.000000\n",
       "mean             inf\n",
       "std              NaN\n",
       "min         0.000000\n",
       "25%         0.138804\n",
       "50%         1.898151\n",
       "75%         6.788662\n",
       "max              inf\n",
       "dtype: float64"
      ]
     },
     "execution_count": 11,
     "metadata": {},
     "output_type": "execute_result"
    }
   ],
   "source": [
    "rev_budget_ratio = movies_df.revenue/movies_df.budget\n",
    "rev_budget_ratio.describe()"
   ]
  },
  {
   "cell_type": "code",
   "execution_count": 12,
   "metadata": {},
   "outputs": [
    {
     "data": {
      "text/plain": [
       "5755"
      ]
     },
     "execution_count": 12,
     "metadata": {},
     "output_type": "execute_result"
    }
   ],
   "source": [
    "movies_df[movies_df.budget<1000].budget.count()"
   ]
  },
  {
   "cell_type": "markdown",
   "metadata": {},
   "source": [
    "###### Money data\n",
    "> As it is very clear, we can see that some of the entries are missing for the budget field. However having 0 in the revenue field is acceptable as movies can come at losses too. Assuming this, we however come to another problem. That is, there are some of the movies that was produced just with a budget less that 1000. This however shows error in the data.\n",
    "###### Another anomaly\n",
    "> Another anomaly that I observed is that. For some of the budget revenue pair, their ratio was very odd. That is, while describing the ratio, it is observed that the max value for the ratio was very huge. This indicates that either one of the data that was provided is false."
   ]
  },
  {
   "cell_type": "code",
   "execution_count": 13,
   "metadata": {},
   "outputs": [
    {
     "data": {
      "text/plain": [
       "count    10866.000000\n",
       "mean       102.070863\n",
       "std         31.381405\n",
       "min          0.000000\n",
       "25%         90.000000\n",
       "50%         99.000000\n",
       "75%        111.000000\n",
       "max        900.000000\n",
       "Name: runtime, dtype: float64"
      ]
     },
     "execution_count": 13,
     "metadata": {},
     "output_type": "execute_result"
    }
   ],
   "source": [
    "movies_df.runtime.describe()"
   ]
  },
  {
   "cell_type": "code",
   "execution_count": 14,
   "metadata": {},
   "outputs": [
    {
     "data": {
      "text/html": [
       "<div>\n",
       "<style>\n",
       "    .dataframe thead tr:only-child th {\n",
       "        text-align: right;\n",
       "    }\n",
       "\n",
       "    .dataframe thead th {\n",
       "        text-align: left;\n",
       "    }\n",
       "\n",
       "    .dataframe tbody tr th {\n",
       "        vertical-align: top;\n",
       "    }\n",
       "</style>\n",
       "<table border=\"1\" class=\"dataframe\">\n",
       "  <thead>\n",
       "    <tr style=\"text-align: right;\">\n",
       "      <th></th>\n",
       "      <th>id</th>\n",
       "      <th>popularity</th>\n",
       "      <th>budget</th>\n",
       "      <th>revenue</th>\n",
       "      <th>runtime</th>\n",
       "      <th>vote_count</th>\n",
       "      <th>vote_average</th>\n",
       "      <th>release_year</th>\n",
       "      <th>budget_adj</th>\n",
       "      <th>revenue_adj</th>\n",
       "    </tr>\n",
       "  </thead>\n",
       "  <tbody>\n",
       "    <tr>\n",
       "      <th>count</th>\n",
       "      <td>231.000000</td>\n",
       "      <td>231.000000</td>\n",
       "      <td>2.310000e+02</td>\n",
       "      <td>2.310000e+02</td>\n",
       "      <td>231.000000</td>\n",
       "      <td>231.000000</td>\n",
       "      <td>231.000000</td>\n",
       "      <td>231.000000</td>\n",
       "      <td>2.310000e+02</td>\n",
       "      <td>2.310000e+02</td>\n",
       "    </tr>\n",
       "    <tr>\n",
       "      <th>mean</th>\n",
       "      <td>116965.943723</td>\n",
       "      <td>0.354943</td>\n",
       "      <td>3.439301e+05</td>\n",
       "      <td>9.090911e+04</td>\n",
       "      <td>10.337662</td>\n",
       "      <td>49.467532</td>\n",
       "      <td>6.636797</td>\n",
       "      <td>2005.597403</td>\n",
       "      <td>3.932434e+05</td>\n",
       "      <td>1.990284e+05</td>\n",
       "    </tr>\n",
       "    <tr>\n",
       "      <th>std</th>\n",
       "      <td>109748.633919</td>\n",
       "      <td>0.622270</td>\n",
       "      <td>3.976399e+06</td>\n",
       "      <td>1.381699e+06</td>\n",
       "      <td>8.423998</td>\n",
       "      <td>69.096388</td>\n",
       "      <td>0.896023</td>\n",
       "      <td>11.931609</td>\n",
       "      <td>4.206744e+06</td>\n",
       "      <td>3.024969e+06</td>\n",
       "    </tr>\n",
       "    <tr>\n",
       "      <th>min</th>\n",
       "      <td>530.000000</td>\n",
       "      <td>0.002757</td>\n",
       "      <td>0.000000e+00</td>\n",
       "      <td>0.000000e+00</td>\n",
       "      <td>0.000000</td>\n",
       "      <td>10.000000</td>\n",
       "      <td>3.300000</td>\n",
       "      <td>1963.000000</td>\n",
       "      <td>0.000000e+00</td>\n",
       "      <td>0.000000e+00</td>\n",
       "    </tr>\n",
       "    <tr>\n",
       "      <th>25%</th>\n",
       "      <td>26912.500000</td>\n",
       "      <td>0.095969</td>\n",
       "      <td>0.000000e+00</td>\n",
       "      <td>0.000000e+00</td>\n",
       "      <td>4.000000</td>\n",
       "      <td>14.000000</td>\n",
       "      <td>6.050000</td>\n",
       "      <td>2004.500000</td>\n",
       "      <td>0.000000e+00</td>\n",
       "      <td>0.000000e+00</td>\n",
       "    </tr>\n",
       "    <tr>\n",
       "      <th>50%</th>\n",
       "      <td>73144.000000</td>\n",
       "      <td>0.226483</td>\n",
       "      <td>0.000000e+00</td>\n",
       "      <td>0.000000e+00</td>\n",
       "      <td>7.000000</td>\n",
       "      <td>24.000000</td>\n",
       "      <td>6.700000</td>\n",
       "      <td>2010.000000</td>\n",
       "      <td>0.000000e+00</td>\n",
       "      <td>0.000000e+00</td>\n",
       "    </tr>\n",
       "    <tr>\n",
       "      <th>75%</th>\n",
       "      <td>200342.500000</td>\n",
       "      <td>0.431284</td>\n",
       "      <td>0.000000e+00</td>\n",
       "      <td>0.000000e+00</td>\n",
       "      <td>16.000000</td>\n",
       "      <td>49.000000</td>\n",
       "      <td>7.300000</td>\n",
       "      <td>2013.000000</td>\n",
       "      <td>0.000000e+00</td>\n",
       "      <td>0.000000e+00</td>\n",
       "    </tr>\n",
       "    <tr>\n",
       "      <th>max</th>\n",
       "      <td>370687.000000</td>\n",
       "      <td>8.411577</td>\n",
       "      <td>6.000000e+07</td>\n",
       "      <td>2.100000e+07</td>\n",
       "      <td>29.000000</td>\n",
       "      <td>507.000000</td>\n",
       "      <td>8.400000</td>\n",
       "      <td>2015.000000</td>\n",
       "      <td>6.310011e+07</td>\n",
       "      <td>4.597555e+07</td>\n",
       "    </tr>\n",
       "  </tbody>\n",
       "</table>\n",
       "</div>"
      ],
      "text/plain": [
       "                  id  popularity        budget       revenue     runtime  \\\n",
       "count     231.000000  231.000000  2.310000e+02  2.310000e+02  231.000000   \n",
       "mean   116965.943723    0.354943  3.439301e+05  9.090911e+04   10.337662   \n",
       "std    109748.633919    0.622270  3.976399e+06  1.381699e+06    8.423998   \n",
       "min       530.000000    0.002757  0.000000e+00  0.000000e+00    0.000000   \n",
       "25%     26912.500000    0.095969  0.000000e+00  0.000000e+00    4.000000   \n",
       "50%     73144.000000    0.226483  0.000000e+00  0.000000e+00    7.000000   \n",
       "75%    200342.500000    0.431284  0.000000e+00  0.000000e+00   16.000000   \n",
       "max    370687.000000    8.411577  6.000000e+07  2.100000e+07   29.000000   \n",
       "\n",
       "       vote_count  vote_average  release_year    budget_adj   revenue_adj  \n",
       "count  231.000000    231.000000    231.000000  2.310000e+02  2.310000e+02  \n",
       "mean    49.467532      6.636797   2005.597403  3.932434e+05  1.990284e+05  \n",
       "std     69.096388      0.896023     11.931609  4.206744e+06  3.024969e+06  \n",
       "min     10.000000      3.300000   1963.000000  0.000000e+00  0.000000e+00  \n",
       "25%     14.000000      6.050000   2004.500000  0.000000e+00  0.000000e+00  \n",
       "50%     24.000000      6.700000   2010.000000  0.000000e+00  0.000000e+00  \n",
       "75%     49.000000      7.300000   2013.000000  0.000000e+00  0.000000e+00  \n",
       "max    507.000000      8.400000   2015.000000  6.310011e+07  4.597555e+07  "
      ]
     },
     "execution_count": 14,
     "metadata": {},
     "output_type": "execute_result"
    }
   ],
   "source": [
    "movies_df[movies_df.runtime<30].describe()"
   ]
  },
  {
   "cell_type": "code",
   "execution_count": 15,
   "metadata": {},
   "outputs": [
    {
     "data": {
      "text/html": [
       "<div>\n",
       "<style>\n",
       "    .dataframe thead tr:only-child th {\n",
       "        text-align: right;\n",
       "    }\n",
       "\n",
       "    .dataframe thead th {\n",
       "        text-align: left;\n",
       "    }\n",
       "\n",
       "    .dataframe tbody tr th {\n",
       "        vertical-align: top;\n",
       "    }\n",
       "</style>\n",
       "<table border=\"1\" class=\"dataframe\">\n",
       "  <thead>\n",
       "    <tr style=\"text-align: right;\">\n",
       "      <th></th>\n",
       "      <th>id</th>\n",
       "      <th>imdb_id</th>\n",
       "      <th>popularity</th>\n",
       "      <th>budget</th>\n",
       "      <th>revenue</th>\n",
       "      <th>original_title</th>\n",
       "      <th>cast</th>\n",
       "      <th>homepage</th>\n",
       "      <th>director</th>\n",
       "      <th>tagline</th>\n",
       "      <th>...</th>\n",
       "      <th>overview</th>\n",
       "      <th>runtime</th>\n",
       "      <th>genres</th>\n",
       "      <th>production_companies</th>\n",
       "      <th>release_date</th>\n",
       "      <th>vote_count</th>\n",
       "      <th>vote_average</th>\n",
       "      <th>release_year</th>\n",
       "      <th>budget_adj</th>\n",
       "      <th>revenue_adj</th>\n",
       "    </tr>\n",
       "  </thead>\n",
       "  <tbody>\n",
       "    <tr>\n",
       "      <th>92</th>\n",
       "      <td>370687</td>\n",
       "      <td>tt3608646</td>\n",
       "      <td>1.876037</td>\n",
       "      <td>0</td>\n",
       "      <td>0</td>\n",
       "      <td>Mythica: The Necromancer</td>\n",
       "      <td>Melanie Stone|Adam Johnson|Kevin Sorbo|Nicola ...</td>\n",
       "      <td>http://www.mythicamovie.com/#!blank/y9ake</td>\n",
       "      <td>A. Todd Smith</td>\n",
       "      <td>NaN</td>\n",
       "      <td>...</td>\n",
       "      <td>Mallister takes Thane prisoner and forces Mare...</td>\n",
       "      <td>0</td>\n",
       "      <td>Fantasy|Action|Adventure</td>\n",
       "      <td>Arrowstorm Entertainment|Camera 40 Productions...</td>\n",
       "      <td>12/19/15</td>\n",
       "      <td>11</td>\n",
       "      <td>5.4</td>\n",
       "      <td>2015</td>\n",
       "      <td>0.0</td>\n",
       "      <td>0.0</td>\n",
       "    </tr>\n",
       "    <tr>\n",
       "      <th>100</th>\n",
       "      <td>326359</td>\n",
       "      <td>tt4007502</td>\n",
       "      <td>1.724712</td>\n",
       "      <td>0</td>\n",
       "      <td>0</td>\n",
       "      <td>Frozen Fever</td>\n",
       "      <td>Kristen Bell|Idina Menzel|Jonathan Groff|Josh ...</td>\n",
       "      <td>NaN</td>\n",
       "      <td>Chris Buck|Jennifer Lee</td>\n",
       "      <td>NaN</td>\n",
       "      <td>...</td>\n",
       "      <td>On Anna's birthday, Elsa and Kristoff are dete...</td>\n",
       "      <td>8</td>\n",
       "      <td>Adventure|Animation|Family</td>\n",
       "      <td>Walt Disney Pictures|Walt Disney Animation Stu...</td>\n",
       "      <td>3/9/15</td>\n",
       "      <td>475</td>\n",
       "      <td>7.0</td>\n",
       "      <td>2015</td>\n",
       "      <td>0.0</td>\n",
       "      <td>0.0</td>\n",
       "    </tr>\n",
       "    <tr>\n",
       "      <th>216</th>\n",
       "      <td>286192</td>\n",
       "      <td>tt3824386</td>\n",
       "      <td>0.640151</td>\n",
       "      <td>0</td>\n",
       "      <td>0</td>\n",
       "      <td>Lava</td>\n",
       "      <td>Napua Greig|Kuana Torres Kahele</td>\n",
       "      <td>http://www.pixar.com/short_films/Theatrical-Sh...</td>\n",
       "      <td>James Ford Murphy</td>\n",
       "      <td>NaN</td>\n",
       "      <td>...</td>\n",
       "      <td>The story follows the love story of two volcan...</td>\n",
       "      <td>7</td>\n",
       "      <td>Animation|Comedy|Family|Fantasy|Music</td>\n",
       "      <td>Pixar Animation Studios</td>\n",
       "      <td>6/19/15</td>\n",
       "      <td>298</td>\n",
       "      <td>7.3</td>\n",
       "      <td>2015</td>\n",
       "      <td>0.0</td>\n",
       "      <td>0.0</td>\n",
       "    </tr>\n",
       "    <tr>\n",
       "      <th>279</th>\n",
       "      <td>355338</td>\n",
       "      <td>tt4941804</td>\n",
       "      <td>0.442835</td>\n",
       "      <td>0</td>\n",
       "      <td>0</td>\n",
       "      <td>Riley's First Date?</td>\n",
       "      <td>Amy Poehler|Phyllis Smith|Bill Hader|Lewis Bla...</td>\n",
       "      <td>NaN</td>\n",
       "      <td>Josh Cooley</td>\n",
       "      <td>NaN</td>\n",
       "      <td>...</td>\n",
       "      <td>Riley, now 12, is hanging out at home with her...</td>\n",
       "      <td>5</td>\n",
       "      <td>Animation|Family</td>\n",
       "      <td>Walt Disney Pictures|Pixar Animation Studios</td>\n",
       "      <td>11/3/15</td>\n",
       "      <td>137</td>\n",
       "      <td>7.3</td>\n",
       "      <td>2015</td>\n",
       "      <td>0.0</td>\n",
       "      <td>0.0</td>\n",
       "    </tr>\n",
       "    <tr>\n",
       "      <th>334</th>\n",
       "      <td>361931</td>\n",
       "      <td>tt5065822</td>\n",
       "      <td>0.357654</td>\n",
       "      <td>0</td>\n",
       "      <td>0</td>\n",
       "      <td>Ronaldo</td>\n",
       "      <td>Cristiano Ronaldo</td>\n",
       "      <td>http://www.ronaldothefilm.com</td>\n",
       "      <td>Anthony Wonke</td>\n",
       "      <td>Astonishing. Intimate. Definitive.</td>\n",
       "      <td>...</td>\n",
       "      <td>Filmed over 14 months with unprecedented acces...</td>\n",
       "      <td>0</td>\n",
       "      <td>Documentary</td>\n",
       "      <td>On The Corner Films|We Came, We Saw, We Conque...</td>\n",
       "      <td>11/9/15</td>\n",
       "      <td>80</td>\n",
       "      <td>6.5</td>\n",
       "      <td>2015</td>\n",
       "      <td>0.0</td>\n",
       "      <td>0.0</td>\n",
       "    </tr>\n",
       "  </tbody>\n",
       "</table>\n",
       "<p>5 rows × 21 columns</p>\n",
       "</div>"
      ],
      "text/plain": [
       "         id    imdb_id  popularity  budget  revenue            original_title  \\\n",
       "92   370687  tt3608646    1.876037       0        0  Mythica: The Necromancer   \n",
       "100  326359  tt4007502    1.724712       0        0              Frozen Fever   \n",
       "216  286192  tt3824386    0.640151       0        0                      Lava   \n",
       "279  355338  tt4941804    0.442835       0        0       Riley's First Date?   \n",
       "334  361931  tt5065822    0.357654       0        0                   Ronaldo   \n",
       "\n",
       "                                                  cast  \\\n",
       "92   Melanie Stone|Adam Johnson|Kevin Sorbo|Nicola ...   \n",
       "100  Kristen Bell|Idina Menzel|Jonathan Groff|Josh ...   \n",
       "216                    Napua Greig|Kuana Torres Kahele   \n",
       "279  Amy Poehler|Phyllis Smith|Bill Hader|Lewis Bla...   \n",
       "334                                  Cristiano Ronaldo   \n",
       "\n",
       "                                              homepage  \\\n",
       "92           http://www.mythicamovie.com/#!blank/y9ake   \n",
       "100                                                NaN   \n",
       "216  http://www.pixar.com/short_films/Theatrical-Sh...   \n",
       "279                                                NaN   \n",
       "334                      http://www.ronaldothefilm.com   \n",
       "\n",
       "                    director                             tagline     ...       \\\n",
       "92             A. Todd Smith                                 NaN     ...        \n",
       "100  Chris Buck|Jennifer Lee                                 NaN     ...        \n",
       "216        James Ford Murphy                                 NaN     ...        \n",
       "279              Josh Cooley                                 NaN     ...        \n",
       "334            Anthony Wonke  Astonishing. Intimate. Definitive.     ...        \n",
       "\n",
       "                                              overview runtime  \\\n",
       "92   Mallister takes Thane prisoner and forces Mare...       0   \n",
       "100  On Anna's birthday, Elsa and Kristoff are dete...       8   \n",
       "216  The story follows the love story of two volcan...       7   \n",
       "279  Riley, now 12, is hanging out at home with her...       5   \n",
       "334  Filmed over 14 months with unprecedented acces...       0   \n",
       "\n",
       "                                    genres  \\\n",
       "92                Fantasy|Action|Adventure   \n",
       "100             Adventure|Animation|Family   \n",
       "216  Animation|Comedy|Family|Fantasy|Music   \n",
       "279                       Animation|Family   \n",
       "334                            Documentary   \n",
       "\n",
       "                                  production_companies release_date  \\\n",
       "92   Arrowstorm Entertainment|Camera 40 Productions...     12/19/15   \n",
       "100  Walt Disney Pictures|Walt Disney Animation Stu...       3/9/15   \n",
       "216                            Pixar Animation Studios      6/19/15   \n",
       "279       Walt Disney Pictures|Pixar Animation Studios      11/3/15   \n",
       "334  On The Corner Films|We Came, We Saw, We Conque...      11/9/15   \n",
       "\n",
       "    vote_count  vote_average  release_year  budget_adj  revenue_adj  \n",
       "92          11           5.4          2015         0.0          0.0  \n",
       "100        475           7.0          2015         0.0          0.0  \n",
       "216        298           7.3          2015         0.0          0.0  \n",
       "279        137           7.3          2015         0.0          0.0  \n",
       "334         80           6.5          2015         0.0          0.0  \n",
       "\n",
       "[5 rows x 21 columns]"
      ]
     },
     "execution_count": 15,
     "metadata": {},
     "output_type": "execute_result"
    }
   ],
   "source": [
    "movies_df[movies_df.runtime<30].head()"
   ]
  },
  {
   "cell_type": "markdown",
   "metadata": {},
   "source": [
    "###### Runtime\n",
    "> As we can see there are some movies with very low runtime. We can eliminate such movies too."
   ]
  },
  {
   "cell_type": "code",
   "execution_count": 16,
   "metadata": {},
   "outputs": [
    {
     "data": {
      "text/plain": [
       "count    10866.000000\n",
       "mean         0.646441\n",
       "std          1.000185\n",
       "min          0.000065\n",
       "25%          0.207583\n",
       "50%          0.383856\n",
       "75%          0.713817\n",
       "max         32.985763\n",
       "Name: popularity, dtype: float64"
      ]
     },
     "execution_count": 16,
     "metadata": {},
     "output_type": "execute_result"
    }
   ],
   "source": [
    "movies_df.popularity.describe()"
   ]
  },
  {
   "cell_type": "markdown",
   "metadata": {},
   "source": [
    "### Data Cleaning \n",
    "> The steps taken for clearing some of the problems in the data are described one by one."
   ]
  },
  {
   "cell_type": "markdown",
   "metadata": {},
   "source": [
    "###### Inital cleaning\n",
    ">Stripping off the columns, id, cast, production companies, tagline, website, plot. Because they do not come under\n",
    " the current field of study. And also the fields were null values are present, like for budget, revenue, genres, etc."
   ]
  },
  {
   "cell_type": "code",
   "execution_count": 17,
   "metadata": {
    "collapsed": true
   },
   "outputs": [],
   "source": [
    "# Removing the unwanted columns.\n",
    "movies_df = movies_df.drop(['id', 'imdb_id',\n",
    "       'cast', 'homepage','tagline', 'keywords', 'overview',\n",
    "       'production_companies',\n",
    "       'budget_adj',\n",
    "       'revenue_adj'], axis=1)"
   ]
  },
  {
   "cell_type": "markdown",
   "metadata": {},
   "source": [
    "> In our remaining data fields, we want to modify them so that we only take in the necessary fields and drop any unwanted or inaccurate fields.\n",
    "First off, we extract the month from the release date as our analysis only requires that information."
   ]
  },
  {
   "cell_type": "code",
   "execution_count": 18,
   "metadata": {
    "collapsed": true
   },
   "outputs": [],
   "source": [
    "def extract_month(date):\n",
    "    month = date.split('/')[0]\n",
    "    return int(month)"
   ]
  },
  {
   "cell_type": "code",
   "execution_count": 19,
   "metadata": {
    "collapsed": true
   },
   "outputs": [],
   "source": [
    "movies_df['release_month'] = movies_df['release_date'].apply(extract_month)"
   ]
  },
  {
   "cell_type": "markdown",
   "metadata": {},
   "source": [
    "###### Major assumption.\n",
    ">Since we came across the problem where the budget was not properly entered, that is movies with budget less than 1000 was occured. So only the movies with a budget of over 100,000 is considered for this study.\n"
   ]
  },
  {
   "cell_type": "code",
   "execution_count": 20,
   "metadata": {
    "collapsed": true
   },
   "outputs": [],
   "source": [
    "# Removing the rows where the budget is 0.\n",
    "\n",
    "movies_df = movies_df[movies_df.budget>100000]"
   ]
  },
  {
   "cell_type": "markdown",
   "metadata": {},
   "source": [
    "##### Another assumption.\n",
    ">Since the ratio between the revenue and the budget was a bit absurd, I've decided to remove all the rows in which the ratio was above 100. Assuming that a profit of about 100 times is possible."
   ]
  },
  {
   "cell_type": "code",
   "execution_count": 21,
   "metadata": {},
   "outputs": [
    {
     "data": {
      "text/plain": [
       "count    5026.000000\n",
       "mean        2.994534\n",
       "std         6.602341\n",
       "min         0.000000\n",
       "25%         0.001305\n",
       "50%         1.229756\n",
       "75%         3.229909\n",
       "max        94.076932\n",
       "dtype: float64"
      ]
     },
     "execution_count": 21,
     "metadata": {},
     "output_type": "execute_result"
    }
   ],
   "source": [
    "rev_budget_ratio = movies_df.revenue/movies_df.budget\n",
    "movies_df = movies_df[rev_budget_ratio<100]\n",
    "new_rev_budget_ratio = movies_df.revenue/movies_df.budget\n",
    "new_rev_budget_ratio.describe()"
   ]
  },
  {
   "cell_type": "markdown",
   "metadata": {},
   "source": [
    "##### The result.\n",
    "> Now we can see that the maximum ratio that occurs in our data is just over 94 times. This does not seem odd. Atleast, compared to the original data that we were looking into."
   ]
  },
  {
   "cell_type": "code",
   "execution_count": 22,
   "metadata": {
    "collapsed": true
   },
   "outputs": [],
   "source": [
    "movies_df.head()\n",
    "movies_df.to_csv('cleaned_data_final.csv', sep='\\t', encoding='utf-8')\n",
    "#saving the final cleaned up data to a csv file."
   ]
  },
  {
   "cell_type": "markdown",
   "metadata": {},
   "source": [
    "<a id='eda'></a>\n",
    "## Exploratory Data Analysis\n",
    "\n",
    "\n",
    "### 1) How does the impact of a movie vary with respect to the time of the year it is released?\n",
    "> Movies come out at all times of the year. But we look forward to watching movies during the holidays or when we are free. So does that mean that there is a particular time when the movies make the maximum impact? And is it because the movies that come out during this time are particularly very good and attracts people? Let's find out."
   ]
  },
  {
   "cell_type": "code",
   "execution_count": 23,
   "metadata": {
    "collapsed": true
   },
   "outputs": [],
   "source": [
    "#we define three functions to plot line charts, bar charts and histogram from the dataframe/series.\n",
    "def plot_series_line(data, yaxis, xaxis, title):\n",
    "    data.plot.line()\n",
    "    plt.xlabel(xaxis)\n",
    "    plt.ylabel(yaxis)\n",
    "    plt.title(title)\n",
    "    plt.show()"
   ]
  },
  {
   "cell_type": "code",
   "execution_count": 57,
   "metadata": {
    "collapsed": true
   },
   "outputs": [],
   "source": [
    "def plot_series_bar(data, yaxis, xaxis, title):\n",
    "    data.plot.bar()\n",
    "    plt.xlabel(xaxis)\n",
    "    plt.ylabel(yaxis)\n",
    "    plt.title(title)\n",
    "    #plt.figure(num=None, figsize=(80, 60), dpi=180, facecolor='w', edgecolor='k')\n",
    "    plt.show()"
   ]
  },
  {
   "cell_type": "code",
   "execution_count": 25,
   "metadata": {
    "collapsed": true
   },
   "outputs": [],
   "source": [
    "def plot_series_hist(data, yaxis, xaxis, title):\n",
    "    data.plot.hist(bins=12)\n",
    "    plt.xlabel(xaxis)\n",
    "    plt.ylabel(yaxis)\n",
    "    plt.title(title)\n",
    "    plt.show()"
   ]
  },
  {
   "cell_type": "code",
   "execution_count": 26,
   "metadata": {
    "collapsed": true
   },
   "outputs": [],
   "source": [
    "#We first group the data by their release month and aggregate the mean.\n",
    "data = movies_df.groupby('release_month').mean()"
   ]
  },
  {
   "cell_type": "markdown",
   "metadata": {},
   "source": [
    "### Our first observation.\n",
    "> For our first observation, plotting the variataion of the mean revenue of the different months were plotted against the respective months. The main objective is to determine if some particular months give higher yield compared to the rest."
   ]
  },
  {
   "cell_type": "code",
   "execution_count": 27,
   "metadata": {},
   "outputs": [
    {
     "data": {
      "image/png": "[encoded data removed]",
      "text/plain": [
       "<matplotlib.figure.Figure at 0x7f958b523a90>"
      ]
     },
     "metadata": {},
     "output_type": "display_data"
    }
   ],
   "source": [
    "plot_series_bar(data['revenue'], yaxis='revenue', xaxis='release month', title='Mean revenue for every month')"
   ]
  },
  {
   "cell_type": "markdown",
   "metadata": {},
   "source": [
    "### Holidays sell better\n",
    "> It is obvious from the given plot that the movies made more revenue during the months of May, June, July, November and December and the average revenue made by movies during the rest of the months are significantly lower. This makes sense because holidays are the best time to watch movies. Moreover, we see the variation of revenue close to the shape of a sine wave. This signifies that the average interest towards movies rises during the holidays and dips during the off holiday time."
   ]
  },
  {
   "cell_type": "markdown",
   "metadata": {},
   "source": [
    "##### Plotting the data.\n",
    "> The data considered for this plot are, revenue, popularity and the average vote count. The data were normalised so that they could be compared easier."
   ]
  },
  {
   "cell_type": "code",
   "execution_count": 28,
   "metadata": {
    "collapsed": true
   },
   "outputs": [],
   "source": [
    "normalised_df = pd.DataFrame(index=np.arange(1, 13, 1), columns=['revenue', 'vote_average', 'popularity'])\n",
    "normalised_df['revenue'] = (data['revenue']-data['revenue'].min())/(data['revenue'].max()-data['revenue'].min())\n",
    "normalised_df['vote_average'] = (data['vote_average']-data['vote_average'].min())/(data['vote_average'].max()-data['vote_average'].min())\n",
    "normalised_df['popularity'] = (data['popularity']-data['popularity'].min())/(data['popularity'].max()-data['popularity'].min())"
   ]
  },
  {
   "cell_type": "code",
   "execution_count": 29,
   "metadata": {},
   "outputs": [
    {
     "data": {
      "image/png": "[encoded data removed]",
      "text/plain": [
       "<matplotlib.figure.Figure at 0x7f958b22f908>"
      ]
     },
     "metadata": {},
     "output_type": "display_data"
    }
   ],
   "source": [
    "plot_series_line(normalised_df, 'normalised values', 'month', 'comparing revenue, vote average and popularity')"
   ]
  },
  {
   "cell_type": "markdown",
   "metadata": {},
   "source": [
    "### Better impact than other factors.\n",
    "> When we compare the variation of factors like the revenue, vote average and populary, it is obvious that the popularity of the movie is inaccordance with the revenue generated by it. That is quite justifiable because popular movies sell better. But the striking result is that, the average popularity of movies is also high during the holiday season. Another striking feature is that these factors(revenue and popularity) are more dependend on the time of the year than the vote average recieved by that movie. This signifies that more than the quality of a movie, the popularity is the major player in determining the success of a movie. And we know that the popularity is high during the mid year."
   ]
  },
  {
   "cell_type": "code",
   "execution_count": null,
   "metadata": {
    "collapsed": true
   },
   "outputs": [],
   "source": []
  },
  {
   "cell_type": "code",
   "execution_count": 30,
   "metadata": {
    "collapsed": true
   },
   "outputs": [],
   "source": [
    "def plot_scatter(data_1, data_2):\n",
    "    plt.scatter(data_1, data_2)\n",
    "    plt.show()"
   ]
  },
  {
   "cell_type": "code",
   "execution_count": 31,
   "metadata": {
    "collapsed": true
   },
   "outputs": [],
   "source": [
    "norm_df = pd.DataFrame(index=movies_df.index, columns=movies_df.columns)\n",
    "norm_df['revenue'] = (movies_df['revenue']-movies_df['revenue'].mean())/(movies_df['revenue'].max()-movies_df['revenue'].min())\n",
    "norm_df['vote_average'] = (movies_df['vote_average']-movies_df['vote_average'].mean())/movies_df['vote_average'].std()\n",
    "norm_df['popularity'] = (movies_df['popularity']-movies_df['popularity'].mean())/(movies_df['popularity'].max()-movies_df['popularity'].min())\n",
    "norm_df['vote_count'] = (movies_df['vote_count']-movies_df['vote_count'].mean())/movies_df['vote_count'].std()\n",
    "norm_df['budget'] = (movies_df['budget']-movies_df['budget'].mean())/movies_df['budget'].std()\n",
    "norm_df['release_year'] = movies_df['release_year']"
   ]
  },
  {
   "cell_type": "code",
   "execution_count": 32,
   "metadata": {
    "collapsed": true
   },
   "outputs": [],
   "source": [
    "m=norm_df[norm_df['release_year']<2000]"
   ]
  },
  {
   "cell_type": "code",
   "execution_count": 33,
   "metadata": {},
   "outputs": [
    {
     "data": {
      "image/png": "[encoded data removed]",
      "text/plain": [
       "<matplotlib.figure.Figure at 0x7f958b145278>"
      ]
     },
     "metadata": {},
     "output_type": "display_data"
    }
   ],
   "source": [
    "plot_scatter(data_1=m['popularity'], data_2=m['revenue'])"
   ]
  },
  {
   "cell_type": "code",
   "execution_count": 34,
   "metadata": {
    "collapsed": true
   },
   "outputs": [],
   "source": [
    "genres_series = pd.Series(index=genres_set, data=0)"
   ]
  },
  {
   "cell_type": "code",
   "execution_count": 58,
   "metadata": {},
   "outputs": [
    {
     "data": {
      "image/png": "[encoded data removed]",
      "text/plain": [
       "<matplotlib.figure.Figure at 0x7f95893d0c18>"
      ]
     },
     "metadata": {},
     "output_type": "display_data"
    }
   ],
   "source": [
    "for genres in movies_df[movies_df.release_year<2000].genres:\n",
    "    for genre in genres.split('|'):\n",
    "        genres_series[genre] = genres_series[genre]+1\n",
    "genres_series = genres_series.sort_values()\n",
    "plot_series_bar(genres_series, '', '', '')"
   ]
  },
  {
   "cell_type": "code",
   "execution_count": 36,
   "metadata": {
    "collapsed": true
   },
   "outputs": [],
   "source": [
    "data_list = []\n",
    "for row in movies_df.itertuples():\n",
    "    for genre in row[7].split('|'):\n",
    "        temp = list(row)\n",
    "        temp[7] = genre\n",
    "        data_list.append(list(temp)[1:13])\n",
    "df_n = pd.DataFrame(columns=movies_df.columns, data=data_list)"
   ]
  },
  {
   "cell_type": "code",
   "execution_count": 37,
   "metadata": {},
   "outputs": [
    {
     "data": {
      "text/html": [
       "<div>\n",
       "<style>\n",
       "    .dataframe thead tr:only-child th {\n",
       "        text-align: right;\n",
       "    }\n",
       "\n",
       "    .dataframe thead th {\n",
       "        text-align: left;\n",
       "    }\n",
       "\n",
       "    .dataframe tbody tr th {\n",
       "        vertical-align: top;\n",
       "    }\n",
       "</style>\n",
       "<table border=\"1\" class=\"dataframe\">\n",
       "  <thead>\n",
       "    <tr style=\"text-align: right;\">\n",
       "      <th></th>\n",
       "      <th>popularity</th>\n",
       "      <th>budget</th>\n",
       "      <th>revenue</th>\n",
       "      <th>runtime</th>\n",
       "      <th>vote_count</th>\n",
       "      <th>vote_average</th>\n",
       "      <th>release_year</th>\n",
       "      <th>release_month</th>\n",
       "    </tr>\n",
       "    <tr>\n",
       "      <th>genres</th>\n",
       "      <th></th>\n",
       "      <th></th>\n",
       "      <th></th>\n",
       "      <th></th>\n",
       "      <th></th>\n",
       "      <th></th>\n",
       "      <th></th>\n",
       "      <th></th>\n",
       "    </tr>\n",
       "  </thead>\n",
       "  <tbody>\n",
       "    <tr>\n",
       "      <th>Action</th>\n",
       "      <td>0.769516</td>\n",
       "      <td>30000000.0</td>\n",
       "      <td>38128991.5</td>\n",
       "      <td>105.0</td>\n",
       "      <td>181.5</td>\n",
       "      <td>6.0</td>\n",
       "      <td>2004.0</td>\n",
       "      <td>7.0</td>\n",
       "    </tr>\n",
       "    <tr>\n",
       "      <th>Adventure</th>\n",
       "      <td>0.964004</td>\n",
       "      <td>40000000.0</td>\n",
       "      <td>66000000.0</td>\n",
       "      <td>107.0</td>\n",
       "      <td>262.0</td>\n",
       "      <td>6.1</td>\n",
       "      <td>2004.0</td>\n",
       "      <td>7.0</td>\n",
       "    </tr>\n",
       "    <tr>\n",
       "      <th>Animation</th>\n",
       "      <td>1.113113</td>\n",
       "      <td>60000000.0</td>\n",
       "      <td>97571250.0</td>\n",
       "      <td>88.0</td>\n",
       "      <td>354.0</td>\n",
       "      <td>6.4</td>\n",
       "      <td>2007.0</td>\n",
       "      <td>7.0</td>\n",
       "    </tr>\n",
       "    <tr>\n",
       "      <th>Comedy</th>\n",
       "      <td>0.642282</td>\n",
       "      <td>20000000.0</td>\n",
       "      <td>29009114.5</td>\n",
       "      <td>99.0</td>\n",
       "      <td>128.0</td>\n",
       "      <td>6.0</td>\n",
       "      <td>2004.0</td>\n",
       "      <td>7.0</td>\n",
       "    </tr>\n",
       "    <tr>\n",
       "      <th>Crime</th>\n",
       "      <td>0.686877</td>\n",
       "      <td>20000000.0</td>\n",
       "      <td>25405445.0</td>\n",
       "      <td>107.0</td>\n",
       "      <td>157.0</td>\n",
       "      <td>6.2</td>\n",
       "      <td>2003.0</td>\n",
       "      <td>7.0</td>\n",
       "    </tr>\n",
       "    <tr>\n",
       "      <th>Documentary</th>\n",
       "      <td>0.204599</td>\n",
       "      <td>2000000.0</td>\n",
       "      <td>231188.5</td>\n",
       "      <td>93.0</td>\n",
       "      <td>26.0</td>\n",
       "      <td>6.9</td>\n",
       "      <td>2008.5</td>\n",
       "      <td>6.0</td>\n",
       "    </tr>\n",
       "    <tr>\n",
       "      <th>Drama</th>\n",
       "      <td>0.582536</td>\n",
       "      <td>16000000.0</td>\n",
       "      <td>17276959.5</td>\n",
       "      <td>111.0</td>\n",
       "      <td>106.0</td>\n",
       "      <td>6.3</td>\n",
       "      <td>2005.0</td>\n",
       "      <td>8.0</td>\n",
       "    </tr>\n",
       "    <tr>\n",
       "      <th>Family</th>\n",
       "      <td>0.846782</td>\n",
       "      <td>38000000.0</td>\n",
       "      <td>72014376.0</td>\n",
       "      <td>95.0</td>\n",
       "      <td>208.5</td>\n",
       "      <td>6.1</td>\n",
       "      <td>2004.0</td>\n",
       "      <td>7.0</td>\n",
       "    </tr>\n",
       "    <tr>\n",
       "      <th>Fantasy</th>\n",
       "      <td>1.014706</td>\n",
       "      <td>40000000.0</td>\n",
       "      <td>57685715.0</td>\n",
       "      <td>102.0</td>\n",
       "      <td>277.0</td>\n",
       "      <td>6.0</td>\n",
       "      <td>2004.0</td>\n",
       "      <td>7.0</td>\n",
       "    </tr>\n",
       "    <tr>\n",
       "      <th>Foreign</th>\n",
       "      <td>0.162041</td>\n",
       "      <td>6000000.0</td>\n",
       "      <td>0.0</td>\n",
       "      <td>102.0</td>\n",
       "      <td>15.0</td>\n",
       "      <td>6.1</td>\n",
       "      <td>2008.0</td>\n",
       "      <td>7.0</td>\n",
       "    </tr>\n",
       "    <tr>\n",
       "      <th>History</th>\n",
       "      <td>0.588821</td>\n",
       "      <td>24500000.0</td>\n",
       "      <td>25819961.0</td>\n",
       "      <td>131.0</td>\n",
       "      <td>116.0</td>\n",
       "      <td>6.6</td>\n",
       "      <td>2004.0</td>\n",
       "      <td>9.0</td>\n",
       "    </tr>\n",
       "    <tr>\n",
       "      <th>Horror</th>\n",
       "      <td>0.471750</td>\n",
       "      <td>7000000.0</td>\n",
       "      <td>5728953.0</td>\n",
       "      <td>95.0</td>\n",
       "      <td>75.0</td>\n",
       "      <td>5.5</td>\n",
       "      <td>2005.0</td>\n",
       "      <td>7.0</td>\n",
       "    </tr>\n",
       "    <tr>\n",
       "      <th>Music</th>\n",
       "      <td>0.553869</td>\n",
       "      <td>15000000.0</td>\n",
       "      <td>30238577.0</td>\n",
       "      <td>107.0</td>\n",
       "      <td>92.0</td>\n",
       "      <td>6.4</td>\n",
       "      <td>2003.0</td>\n",
       "      <td>8.0</td>\n",
       "    </tr>\n",
       "    <tr>\n",
       "      <th>Mystery</th>\n",
       "      <td>0.688022</td>\n",
       "      <td>20000000.0</td>\n",
       "      <td>20645327.0</td>\n",
       "      <td>108.0</td>\n",
       "      <td>151.0</td>\n",
       "      <td>6.1</td>\n",
       "      <td>2004.0</td>\n",
       "      <td>7.0</td>\n",
       "    </tr>\n",
       "    <tr>\n",
       "      <th>Romance</th>\n",
       "      <td>0.601522</td>\n",
       "      <td>18000000.0</td>\n",
       "      <td>20689437.0</td>\n",
       "      <td>106.5</td>\n",
       "      <td>108.5</td>\n",
       "      <td>6.2</td>\n",
       "      <td>2003.0</td>\n",
       "      <td>8.0</td>\n",
       "    </tr>\n",
       "    <tr>\n",
       "      <th>Science Fiction</th>\n",
       "      <td>0.801677</td>\n",
       "      <td>25000000.0</td>\n",
       "      <td>28738823.0</td>\n",
       "      <td>102.0</td>\n",
       "      <td>205.0</td>\n",
       "      <td>5.9</td>\n",
       "      <td>2003.0</td>\n",
       "      <td>7.0</td>\n",
       "    </tr>\n",
       "    <tr>\n",
       "      <th>TV Movie</th>\n",
       "      <td>0.313973</td>\n",
       "      <td>4200000.0</td>\n",
       "      <td>0.0</td>\n",
       "      <td>90.0</td>\n",
       "      <td>27.0</td>\n",
       "      <td>5.4</td>\n",
       "      <td>2009.0</td>\n",
       "      <td>5.0</td>\n",
       "    </tr>\n",
       "    <tr>\n",
       "      <th>Thriller</th>\n",
       "      <td>0.646926</td>\n",
       "      <td>19000000.0</td>\n",
       "      <td>20020686.0</td>\n",
       "      <td>104.0</td>\n",
       "      <td>133.0</td>\n",
       "      <td>6.0</td>\n",
       "      <td>2005.0</td>\n",
       "      <td>7.0</td>\n",
       "    </tr>\n",
       "    <tr>\n",
       "      <th>War</th>\n",
       "      <td>0.720579</td>\n",
       "      <td>22750000.0</td>\n",
       "      <td>29224145.5</td>\n",
       "      <td>127.0</td>\n",
       "      <td>159.5</td>\n",
       "      <td>6.6</td>\n",
       "      <td>2002.0</td>\n",
       "      <td>9.0</td>\n",
       "    </tr>\n",
       "    <tr>\n",
       "      <th>Western</th>\n",
       "      <td>0.621202</td>\n",
       "      <td>22000000.0</td>\n",
       "      <td>12232628.0</td>\n",
       "      <td>119.0</td>\n",
       "      <td>114.0</td>\n",
       "      <td>6.2</td>\n",
       "      <td>2000.0</td>\n",
       "      <td>8.0</td>\n",
       "    </tr>\n",
       "  </tbody>\n",
       "</table>\n",
       "</div>"
      ],
      "text/plain": [
       "                 popularity      budget     revenue  runtime  vote_count  \\\n",
       "genres                                                                     \n",
       "Action             0.769516  30000000.0  38128991.5    105.0       181.5   \n",
       "Adventure          0.964004  40000000.0  66000000.0    107.0       262.0   \n",
       "Animation          1.113113  60000000.0  97571250.0     88.0       354.0   \n",
       "Comedy             0.642282  20000000.0  29009114.5     99.0       128.0   \n",
       "Crime              0.686877  20000000.0  25405445.0    107.0       157.0   \n",
       "Documentary        0.204599   2000000.0    231188.5     93.0        26.0   \n",
       "Drama              0.582536  16000000.0  17276959.5    111.0       106.0   \n",
       "Family             0.846782  38000000.0  72014376.0     95.0       208.5   \n",
       "Fantasy            1.014706  40000000.0  57685715.0    102.0       277.0   \n",
       "Foreign            0.162041   6000000.0         0.0    102.0        15.0   \n",
       "History            0.588821  24500000.0  25819961.0    131.0       116.0   \n",
       "Horror             0.471750   7000000.0   5728953.0     95.0        75.0   \n",
       "Music              0.553869  15000000.0  30238577.0    107.0        92.0   \n",
       "Mystery            0.688022  20000000.0  20645327.0    108.0       151.0   \n",
       "Romance            0.601522  18000000.0  20689437.0    106.5       108.5   \n",
       "Science Fiction    0.801677  25000000.0  28738823.0    102.0       205.0   \n",
       "TV Movie           0.313973   4200000.0         0.0     90.0        27.0   \n",
       "Thriller           0.646926  19000000.0  20020686.0    104.0       133.0   \n",
       "War                0.720579  22750000.0  29224145.5    127.0       159.5   \n",
       "Western            0.621202  22000000.0  12232628.0    119.0       114.0   \n",
       "\n",
       "                 vote_average  release_year  release_month  \n",
       "genres                                                      \n",
       "Action                    6.0        2004.0            7.0  \n",
       "Adventure                 6.1        2004.0            7.0  \n",
       "Animation                 6.4        2007.0            7.0  \n",
       "Comedy                    6.0        2004.0            7.0  \n",
       "Crime                     6.2        2003.0            7.0  \n",
       "Documentary               6.9        2008.5            6.0  \n",
       "Drama                     6.3        2005.0            8.0  \n",
       "Family                    6.1        2004.0            7.0  \n",
       "Fantasy                   6.0        2004.0            7.0  \n",
       "Foreign                   6.1        2008.0            7.0  \n",
       "History                   6.6        2004.0            9.0  \n",
       "Horror                    5.5        2005.0            7.0  \n",
       "Music                     6.4        2003.0            8.0  \n",
       "Mystery                   6.1        2004.0            7.0  \n",
       "Romance                   6.2        2003.0            8.0  \n",
       "Science Fiction           5.9        2003.0            7.0  \n",
       "TV Movie                  5.4        2009.0            5.0  \n",
       "Thriller                  6.0        2005.0            7.0  \n",
       "War                       6.6        2002.0            9.0  \n",
       "Western                   6.2        2000.0            8.0  "
      ]
     },
     "execution_count": 37,
     "metadata": {},
     "output_type": "execute_result"
    }
   ],
   "source": [
    "study_data = df_n.groupby('genres').median()\n",
    "study_data"
   ]
  },
  {
   "cell_type": "code",
   "execution_count": 59,
   "metadata": {},
   "outputs": [
    {
     "data": {
      "image/png": "[encoded data removed]",
      "text/plain": [
       "<matplotlib.figure.Figure at 0x7f95894b3f28>"
      ]
     },
     "metadata": {},
     "output_type": "display_data"
    }
   ],
   "source": [
    "data = study_data['popularity'].sort_values()\n",
    "plot_series_bar(data, 'Popularity', 'Genre', 'Popularity of different genres')"
   ]
  },
  {
   "cell_type": "code",
   "execution_count": 56,
   "metadata": {},
   "outputs": [
    {
     "data": {
      "image/png": "[encoded data removed]",
      "text/plain": [
       "<matplotlib.figure.Figure at 0x7f95898530b8>"
      ]
     },
     "metadata": {},
     "output_type": "display_data"
    },
    {
     "data": {
      "text/plain": [
       "<matplotlib.figure.Figure at 0x7f95894a6898>"
      ]
     },
     "metadata": {},
     "output_type": "display_data"
    }
   ],
   "source": [
    "study_data = df_n.groupby('genres').mean()\n",
    "#normalized_genres_df = pd.DataFrame(columns=study_data.columns, )\n",
    "study_data = (study_data-study_data.min())/(study_data.max()-study_data.min())\n",
    "plot_series_bar(study_data[['vote_average', 'popularity', 'revenue']].sort_index(), '', '', '')"
   ]
  },
  {
   "cell_type": "code",
   "execution_count": 40,
   "metadata": {},
   "outputs": [
    {
     "data": {
      "image/png": "[encoded data removed]",
      "text/plain": [
       "<matplotlib.figure.Figure at 0x7f958b264080>"
      ]
     },
     "metadata": {},
     "output_type": "display_data"
    }
   ],
   "source": [
    "popularity_vote_ratio = study_data['popularity']/study_data['vote_average']\n",
    "plot_series_bar(popularity_vote_ratio.sort_values(), '', '', '')"
   ]
  },
  {
   "cell_type": "code",
   "execution_count": 41,
   "metadata": {},
   "outputs": [
    {
     "name": "stdout",
     "output_type": "stream",
     "text": [
      "genres\n",
      "Foreign            0.000000\n",
      "Documentary        0.059065\n",
      "TV Movie           0.156173\n",
      "Horror             0.330040\n",
      "History            0.419581\n",
      "Music              0.425036\n",
      "Romance            0.458453\n",
      "Drama              0.468906\n",
      "Comedy             0.489061\n",
      "Western            0.506111\n",
      "Mystery            0.547711\n",
      "Crime              0.556121\n",
      "Thriller           0.591647\n",
      "War                0.605157\n",
      "Family             0.752840\n",
      "Action             0.779605\n",
      "Animation          0.900470\n",
      "Fantasy            0.910113\n",
      "Science Fiction    0.931223\n",
      "Adventure          1.000000\n",
      "Name: popularity, dtype: float64\n",
      "genres\n",
      "TV Movie           0.000000\n",
      "Horror             0.159555\n",
      "Science Fiction    0.377118\n",
      "Foreign            0.397045\n",
      "Action             0.410081\n",
      "Thriller           0.423436\n",
      "Comedy             0.456657\n",
      "Fantasy            0.465101\n",
      "Adventure          0.495645\n",
      "Family             0.504946\n",
      "Mystery            0.528658\n",
      "Romance            0.564758\n",
      "Crime              0.625168\n",
      "Western            0.632267\n",
      "Drama              0.675414\n",
      "Animation          0.707859\n",
      "Music              0.713524\n",
      "War                0.805654\n",
      "History            0.816547\n",
      "Documentary        1.000000\n",
      "Name: vote_average, dtype: float64\n"
     ]
    }
   ],
   "source": [
    "popularity_vote_ratio.sort_values()\n",
    "print(study_data['popularity'].sort_values())\n",
    "print(study_data['vote_average'].sort_values())"
   ]
  },
  {
   "cell_type": "markdown",
   "metadata": {},
   "source": [
    "### How does other factors compare?\n",
    "> Comparing the mean revenue generated per month was one way to compare the variation of the movie impact according to the time of the year. Now, let us compare different other factors that determine the quality of a movie. For instance, let us look into other factors. Like, Do good quality movies( ones with higher vote average ) wait till it is the holiday season to generate better revenue? And so does that mean that it will play a major role in generating more revenue during the season? Let us find out."
   ]
  },
  {
   "cell_type": "markdown",
   "metadata": {},
   "source": [
    "### 2) How has modern vfx and cgi improved the market of sci-fi movies and various out of the normal plot movies?\n",
    "> We identify the advent of modern CGI and vfx after Steven Speilberg's Jurrasic Park. It was indeed a spectacular sight. Since then movies started using a lot of this and its use has increased exponentially in such a way that, some critics say that it is robbing us of the reality. Good vfx and CGI are'nt the only things that make a movie great, but has the market of such out of the normal plot movies benefitted from the modern technology?\n",
    "We analyse movies before the 90s and compare their statistics with the modern ones. Only the movie genres like sci-fi, horror, war, etc where this is applicable are taken into account."
   ]
  },
  {
   "cell_type": "code",
   "execution_count": 42,
   "metadata": {},
   "outputs": [
    {
     "data": {
      "text/plain": [
       "{'Action',\n",
       " 'Adventure',\n",
       " 'Animation',\n",
       " 'Comedy',\n",
       " 'Crime',\n",
       " 'Documentary',\n",
       " 'Drama',\n",
       " 'Family',\n",
       " 'Fantasy',\n",
       " 'Foreign',\n",
       " 'History',\n",
       " 'Horror',\n",
       " 'Music',\n",
       " 'Mystery',\n",
       " 'Romance',\n",
       " 'Science Fiction',\n",
       " 'TV Movie',\n",
       " 'Thriller',\n",
       " 'War',\n",
       " 'Western',\n",
       " 'nan'}"
      ]
     },
     "execution_count": 42,
     "metadata": {},
     "output_type": "execute_result"
    }
   ],
   "source": [
    "genres_set"
   ]
  },
  {
   "cell_type": "markdown",
   "metadata": {},
   "source": [
    "###### Some further cleaning.\n",
    "> Since we are looking into movie genres that include pure drama, tha excludes every bit of unnatural plots like, action, adventure, animation, crime, horror, mystery, science fiction, war."
   ]
  },
  {
   "cell_type": "code",
   "execution_count": 43,
   "metadata": {
    "collapsed": true
   },
   "outputs": [],
   "source": [
    "ignored_genres_drama = ['Action',\n",
    " 'Adventure',\n",
    " 'Animation',\n",
    " 'Crime',\n",
    " 'History',\n",
    " 'Horror',\n",
    " 'Mystery',\n",
    " 'Science Fiction',\n",
    " 'Thriller',\n",
    " 'War']"
   ]
  },
  {
   "cell_type": "code",
   "execution_count": 44,
   "metadata": {
    "collapsed": true
   },
   "outputs": [],
   "source": [
    "def is_drama(df):\n",
    "    flag = True\n",
    "    for genre in str(df).split('|'):\n",
    "        if(genre in ignored_genres_drama):\n",
    "            flag = False\n",
    "            break\n",
    "    return flag"
   ]
  },
  {
   "cell_type": "code",
   "execution_count": 45,
   "metadata": {},
   "outputs": [
    {
     "data": {
      "text/plain": [
       "{'Action',\n",
       " 'Adventure',\n",
       " 'Animation',\n",
       " 'Comedy',\n",
       " 'Crime',\n",
       " 'Documentary',\n",
       " 'Drama',\n",
       " 'Family',\n",
       " 'Fantasy',\n",
       " 'Foreign',\n",
       " 'History',\n",
       " 'Horror',\n",
       " 'Music',\n",
       " 'Mystery',\n",
       " 'Romance',\n",
       " 'Science Fiction',\n",
       " 'TV Movie',\n",
       " 'Thriller',\n",
       " 'War',\n",
       " 'Western',\n",
       " 'nan'}"
      ]
     },
     "execution_count": 45,
     "metadata": {},
     "output_type": "execute_result"
    }
   ],
   "source": [
    "genres_set"
   ]
  },
  {
   "cell_type": "markdown",
   "metadata": {},
   "source": [
    "> Here we consider movies having either one of Sci-fi, horror, or war to have benefitted from this technological advancement."
   ]
  },
  {
   "cell_type": "code",
   "execution_count": 46,
   "metadata": {
    "collapsed": true
   },
   "outputs": [],
   "source": [
    "vfx_genres = ['Science Fiction', 'Horror', 'War']"
   ]
  },
  {
   "cell_type": "code",
   "execution_count": 47,
   "metadata": {
    "collapsed": true
   },
   "outputs": [],
   "source": [
    "#function to determine if a movie comes under this category.\n",
    "def determine_vfx(genres):\n",
    "    flag = False\n",
    "    for genre in str(genres).split('|'):\n",
    "        if(genre in vfx_genres):\n",
    "            flag = True\n",
    "            break\n",
    "    return flag"
   ]
  },
  {
   "cell_type": "code",
   "execution_count": 48,
   "metadata": {},
   "outputs": [
    {
     "data": {
      "text/html": [
       "<div>\n",
       "<style>\n",
       "    .dataframe thead tr:only-child th {\n",
       "        text-align: right;\n",
       "    }\n",
       "\n",
       "    .dataframe thead th {\n",
       "        text-align: left;\n",
       "    }\n",
       "\n",
       "    .dataframe tbody tr th {\n",
       "        vertical-align: top;\n",
       "    }\n",
       "</style>\n",
       "<table border=\"1\" class=\"dataframe\">\n",
       "  <thead>\n",
       "    <tr style=\"text-align: right;\">\n",
       "      <th></th>\n",
       "      <th>popularity</th>\n",
       "      <th>budget</th>\n",
       "      <th>revenue</th>\n",
       "      <th>original_title</th>\n",
       "      <th>director</th>\n",
       "      <th>runtime</th>\n",
       "      <th>genres</th>\n",
       "      <th>release_date</th>\n",
       "      <th>vote_count</th>\n",
       "      <th>vote_average</th>\n",
       "      <th>release_year</th>\n",
       "      <th>release_month</th>\n",
       "    </tr>\n",
       "  </thead>\n",
       "  <tbody>\n",
       "    <tr>\n",
       "      <th>0</th>\n",
       "      <td>32.985763</td>\n",
       "      <td>150000000</td>\n",
       "      <td>1513528810</td>\n",
       "      <td>Jurassic World</td>\n",
       "      <td>Colin Trevorrow</td>\n",
       "      <td>124</td>\n",
       "      <td>Action|Adventure|Science Fiction|Thriller</td>\n",
       "      <td>6/9/15</td>\n",
       "      <td>5562</td>\n",
       "      <td>6.5</td>\n",
       "      <td>2015</td>\n",
       "      <td>6</td>\n",
       "    </tr>\n",
       "    <tr>\n",
       "      <th>1</th>\n",
       "      <td>28.419936</td>\n",
       "      <td>150000000</td>\n",
       "      <td>378436354</td>\n",
       "      <td>Mad Max: Fury Road</td>\n",
       "      <td>George Miller</td>\n",
       "      <td>120</td>\n",
       "      <td>Action|Adventure|Science Fiction|Thriller</td>\n",
       "      <td>5/13/15</td>\n",
       "      <td>6185</td>\n",
       "      <td>7.1</td>\n",
       "      <td>2015</td>\n",
       "      <td>5</td>\n",
       "    </tr>\n",
       "    <tr>\n",
       "      <th>2</th>\n",
       "      <td>13.112507</td>\n",
       "      <td>110000000</td>\n",
       "      <td>295238201</td>\n",
       "      <td>Insurgent</td>\n",
       "      <td>Robert Schwentke</td>\n",
       "      <td>119</td>\n",
       "      <td>Adventure|Science Fiction|Thriller</td>\n",
       "      <td>3/18/15</td>\n",
       "      <td>2480</td>\n",
       "      <td>6.3</td>\n",
       "      <td>2015</td>\n",
       "      <td>3</td>\n",
       "    </tr>\n",
       "    <tr>\n",
       "      <th>3</th>\n",
       "      <td>11.173104</td>\n",
       "      <td>200000000</td>\n",
       "      <td>2068178225</td>\n",
       "      <td>Star Wars: The Force Awakens</td>\n",
       "      <td>J.J. Abrams</td>\n",
       "      <td>136</td>\n",
       "      <td>Action|Adventure|Science Fiction|Fantasy</td>\n",
       "      <td>12/15/15</td>\n",
       "      <td>5292</td>\n",
       "      <td>7.5</td>\n",
       "      <td>2015</td>\n",
       "      <td>12</td>\n",
       "    </tr>\n",
       "    <tr>\n",
       "      <th>6</th>\n",
       "      <td>8.654359</td>\n",
       "      <td>155000000</td>\n",
       "      <td>440603537</td>\n",
       "      <td>Terminator Genisys</td>\n",
       "      <td>Alan Taylor</td>\n",
       "      <td>125</td>\n",
       "      <td>Science Fiction|Action|Thriller|Adventure</td>\n",
       "      <td>6/23/15</td>\n",
       "      <td>2598</td>\n",
       "      <td>5.8</td>\n",
       "      <td>2015</td>\n",
       "      <td>6</td>\n",
       "    </tr>\n",
       "  </tbody>\n",
       "</table>\n",
       "</div>"
      ],
      "text/plain": [
       "   popularity     budget     revenue                original_title  \\\n",
       "0   32.985763  150000000  1513528810                Jurassic World   \n",
       "1   28.419936  150000000   378436354            Mad Max: Fury Road   \n",
       "2   13.112507  110000000   295238201                     Insurgent   \n",
       "3   11.173104  200000000  2068178225  Star Wars: The Force Awakens   \n",
       "6    8.654359  155000000   440603537            Terminator Genisys   \n",
       "\n",
       "           director  runtime                                     genres  \\\n",
       "0   Colin Trevorrow      124  Action|Adventure|Science Fiction|Thriller   \n",
       "1     George Miller      120  Action|Adventure|Science Fiction|Thriller   \n",
       "2  Robert Schwentke      119         Adventure|Science Fiction|Thriller   \n",
       "3       J.J. Abrams      136   Action|Adventure|Science Fiction|Fantasy   \n",
       "6       Alan Taylor      125  Science Fiction|Action|Thriller|Adventure   \n",
       "\n",
       "  release_date  vote_count  vote_average  release_year  release_month  \n",
       "0       6/9/15        5562           6.5          2015              6  \n",
       "1      5/13/15        6185           7.1          2015              5  \n",
       "2      3/18/15        2480           6.3          2015              3  \n",
       "3     12/15/15        5292           7.5          2015             12  \n",
       "6      6/23/15        2598           5.8          2015              6  "
      ]
     },
     "execution_count": 48,
     "metadata": {},
     "output_type": "execute_result"
    }
   ],
   "source": [
    "# we convert that to a new data frame consisting of only such movies.\n",
    "vfx_movies_df = movies_df[movies_df['genres'].apply(determine_vfx)]\n",
    "vfx_movies_df.head()"
   ]
  },
  {
   "cell_type": "markdown",
   "metadata": {
    "collapsed": true
   },
   "source": [
    ">It is pretty obvious that our filtering was able to group movies that uses heavy vfx.\n"
   ]
  },
  {
   "cell_type": "code",
   "execution_count": 49,
   "metadata": {
    "collapsed": true
   },
   "outputs": [],
   "source": [
    "data = vfx_movies_df.groupby('release_year').mean()"
   ]
  },
  {
   "cell_type": "code",
   "execution_count": 50,
   "metadata": {},
   "outputs": [
    {
     "ename": "TypeError",
     "evalue": "plot_series_line() missing 3 required positional arguments: 'yaxis', 'xaxis', and 'title'",
     "output_type": "error",
     "traceback": [
      "\u001b[0;31m---------------------------------------------------------------------------\u001b[0m",
      "\u001b[0;31mTypeError\u001b[0m                                 Traceback (most recent call last)",
      "\u001b[0;32m<ipython-input-50-955363d31b43>\u001b[0m in \u001b[0;36m<module>\u001b[0;34m()\u001b[0m\n\u001b[0;32m----> 1\u001b[0;31m \u001b[0mplot_series_line\u001b[0m\u001b[0;34m(\u001b[0m\u001b[0mdata\u001b[0m\u001b[0;34m.\u001b[0m\u001b[0mpopularity\u001b[0m\u001b[0;34m.\u001b[0m\u001b[0mrolling\u001b[0m\u001b[0;34m(\u001b[0m\u001b[0mcenter\u001b[0m\u001b[0;34m=\u001b[0m\u001b[0;32mFalse\u001b[0m\u001b[0;34m,\u001b[0m \u001b[0mwindow\u001b[0m\u001b[0;34m=\u001b[0m\u001b[0;36m5\u001b[0m\u001b[0;34m)\u001b[0m\u001b[0;34m.\u001b[0m\u001b[0mmean\u001b[0m\u001b[0;34m(\u001b[0m\u001b[0;34m)\u001b[0m\u001b[0;34m)\u001b[0m\u001b[0;34m\u001b[0m\u001b[0m\n\u001b[0m",
      "\u001b[0;31mTypeError\u001b[0m: plot_series_line() missing 3 required positional arguments: 'yaxis', 'xaxis', and 'title'"
     ]
    }
   ],
   "source": [
    "plot_series_line(data.popularity.rolling(center=False, window=5).mean())"
   ]
  },
  {
   "cell_type": "markdown",
   "metadata": {},
   "source": [
    "#### The rise of its popularity.\n",
    "> It is very clear that the technological advancements made a very big impact on the popularity of such films.\n",
    "Let us now look into the rise of revenue and the overall performance of vfx movies."
   ]
  },
  {
   "cell_type": "code",
   "execution_count": null,
   "metadata": {
    "collapsed": true
   },
   "outputs": [],
   "source": [
    "#plotting the mean revenue over the years.\n",
    "plot_series_line(data.revenue.rolling(center=False, window=5).mean())"
   ]
  },
  {
   "cell_type": "code",
   "execution_count": null,
   "metadata": {
    "collapsed": true
   },
   "outputs": [],
   "source": [
    "#Here, we take the max because the averaage quality always decreases with the more number of movies coming out.\n",
    "data = vfx_movies_df.groupby('release_year').max()\n",
    "plot_series_line(data.vote_average.rolling(window=5, center=False).mean())"
   ]
  },
  {
   "cell_type": "code",
   "execution_count": null,
   "metadata": {
    "collapsed": true
   },
   "outputs": [],
   "source": [
    "#Finally, we find out the number of such movies per year.\n",
    "data = vfx_movies_df.groupby('release_year').count()\n",
    "plot_series_line(data.vote_average.rolling(window=5, center=False).mean())"
   ]
  },
  {
   "cell_type": "markdown",
   "metadata": {},
   "source": [
    "#### The result.\n",
    "> We clearly see how the popularity, revenue and the quality of the movies increased with the advent of vfx. We can see that the 80s was the time when people started establishing the success of vfx movies. And since then it never stopped growing, so today we can accurately say that the major money makers of the film industry are vfx movies, all thanks to the new and developing technologies."
   ]
  },
  {
   "cell_type": "markdown",
   "metadata": {},
   "source": [
    "<a id='conclusions'></a>\n",
    "## Conclusions\n",
    "> So the findings from the two of my posted questions are clear, i.e there is still good scope for old school drama movies. And with the advent of new technologies, film makers are doing their part into incorporating those elements into films.\n",
    "##### Limitations\n",
    "> Eventhough I classified movies under drama and movies that have an out of the ordinary plot, the accuracy of the classification cannot be assessed to be a hundred percent true. And I have made my assumptions and findings in light of that. And the accuracy of all the other deductions and conclusions are only as accurate as the data, despite all the data cleaning efforts. Also revenue is restricted by the overall exposure of the movie, like the regions released, etc. So based on available factors, it is impossible to determine a movie that was underrated but deserved much more.\n",
    "###### Scope for further findings.\n",
    ">Since the Analysis was strictly secluded to numbers and some keywords, the possibilities of deriving insights are also related. However, by further analysing the plots, critic reviews, we can come to much better and accurate conclusions."
   ]
  },
  {
   "cell_type": "code",
   "execution_count": null,
   "metadata": {
    "collapsed": true
   },
   "outputs": [],
   "source": []
  }
 ],
 "metadata": {
  "kernelspec": {
   "display_name": "Python 3",
   "language": "python",
   "name": "python3"
  },
  "language_info": {
   "codemirror_mode": {
    "name": "ipython",
    "version": 3
   },
   "file_extension": ".py",
   "mimetype": "text/x-python",
   "name": "python",
   "nbconvert_exporter": "python",
   "pygments_lexer": "ipython3",
   "version": "3.6.1"
  }
 },
 "nbformat": 4,
 "nbformat_minor": 2
}
